{
 "cells": [
  {
   "cell_type": "markdown",
   "metadata": {},
   "source": [
    "In this notebook we describe the code use to produce the baseline. "
   ]
  },
  {
   "cell_type": "markdown",
   "metadata": {},
   "source": [
    "# Data and Libraries"
   ]
  },
  {
   "cell_type": "code",
   "execution_count": 1,
   "metadata": {
    "_cell_guid": "79c7e3d0-c299-4dcb-8224-4455121ee9b0",
    "_uuid": "d629ff2d2480ee46fbb7e2d37f6b5fab8052498a"
   },
   "outputs": [],
   "source": [
    "import pandas as pd\n",
    "import pickle\n",
    "from sklearn import model_selection\n",
    "from sklearn.feature_extraction.text import TfidfVectorizer\n",
    "from sklearn.linear_model import LogisticRegression\n",
    "from sklearn.model_selection import cross_val_score\n",
    "import pandas as pd\n",
    "from sklearn.metrics import f1_score\n",
    "from sklearn import preprocessing\n",
    "from sklearn import linear_model\n",
    "from sklearn.pipeline import Pipeline\n",
    "import time\n",
    "from sklearn.tree import DecisionTreeClassifier\n",
    "from sklearn.ensemble import RandomForestClassifier\n",
    "from sklearn.svm import SVC"
   ]
  },
  {
   "cell_type": "code",
   "execution_count": 2,
   "metadata": {},
   "outputs": [],
   "source": [
    "# Mettre ici le PATH vers le répertoire contenant le fichier Train.json\n",
    "DATA_PATH = \"/Users/Ben/Jupyter_Notebooks/Defi_IA/Data\"\n",
    "\n",
    "train_df = pd.read_json(DATA_PATH+\"/train.json\")\n",
    "train_label = pd.read_csv(DATA_PATH+\"/train_label.csv\")\n",
    "\n",
    "# test_df = pd.read_json(DATA_PATH+\"/test.json\") : inutile ici car pas de label associé"
   ]
  },
  {
   "cell_type": "code",
   "execution_count": 3,
   "metadata": {},
   "outputs": [
    {
     "data": {
      "text/html": [
       "<div>\n",
       "<style scoped>\n",
       "    .dataframe tbody tr th:only-of-type {\n",
       "        vertical-align: middle;\n",
       "    }\n",
       "\n",
       "    .dataframe tbody tr th {\n",
       "        vertical-align: top;\n",
       "    }\n",
       "\n",
       "    .dataframe thead th {\n",
       "        text-align: right;\n",
       "    }\n",
       "</style>\n",
       "<table border=\"1\" class=\"dataframe\">\n",
       "  <thead>\n",
       "    <tr style=\"text-align: right;\">\n",
       "      <th></th>\n",
       "      <th>Id</th>\n",
       "      <th>description</th>\n",
       "      <th>gender</th>\n",
       "    </tr>\n",
       "  </thead>\n",
       "  <tbody>\n",
       "    <tr>\n",
       "      <th>0</th>\n",
       "      <td>0</td>\n",
       "      <td>She is also a Ronald D. Asmus Policy Entrepre...</td>\n",
       "      <td>F</td>\n",
       "    </tr>\n",
       "    <tr>\n",
       "      <th>1</th>\n",
       "      <td>1</td>\n",
       "      <td>He is a member of the AICPA and WICPA. Brent ...</td>\n",
       "      <td>M</td>\n",
       "    </tr>\n",
       "    <tr>\n",
       "      <th>2</th>\n",
       "      <td>2</td>\n",
       "      <td>Dr. Aster has held teaching and research posi...</td>\n",
       "      <td>M</td>\n",
       "    </tr>\n",
       "    <tr>\n",
       "      <th>4</th>\n",
       "      <td>3</td>\n",
       "      <td>He runs a boutique design studio attending cl...</td>\n",
       "      <td>M</td>\n",
       "    </tr>\n",
       "    <tr>\n",
       "      <th>5</th>\n",
       "      <td>4</td>\n",
       "      <td>He focuses on cloud security, identity and ac...</td>\n",
       "      <td>M</td>\n",
       "    </tr>\n",
       "    <tr>\n",
       "      <th>...</th>\n",
       "      <td>...</td>\n",
       "      <td>...</td>\n",
       "      <td>...</td>\n",
       "    </tr>\n",
       "    <tr>\n",
       "      <th>271492</th>\n",
       "      <td>217192</td>\n",
       "      <td>A member of the UWA Cultural Collections Boar...</td>\n",
       "      <td>M</td>\n",
       "    </tr>\n",
       "    <tr>\n",
       "      <th>271493</th>\n",
       "      <td>217193</td>\n",
       "      <td>Kelly has worked globally leading teams of co...</td>\n",
       "      <td>F</td>\n",
       "    </tr>\n",
       "    <tr>\n",
       "      <th>271494</th>\n",
       "      <td>217194</td>\n",
       "      <td>He's the lead author of a recent study that f...</td>\n",
       "      <td>M</td>\n",
       "    </tr>\n",
       "    <tr>\n",
       "      <th>271495</th>\n",
       "      <td>217195</td>\n",
       "      <td>She specializes in the theoretical and pedago...</td>\n",
       "      <td>F</td>\n",
       "    </tr>\n",
       "    <tr>\n",
       "      <th>271496</th>\n",
       "      <td>217196</td>\n",
       "      <td>Since she was 10 years old she has become a m...</td>\n",
       "      <td>F</td>\n",
       "    </tr>\n",
       "  </tbody>\n",
       "</table>\n",
       "<p>217197 rows × 3 columns</p>\n",
       "</div>"
      ],
      "text/plain": [
       "            Id                                        description gender\n",
       "0            0   She is also a Ronald D. Asmus Policy Entrepre...      F\n",
       "1            1   He is a member of the AICPA and WICPA. Brent ...      M\n",
       "2            2   Dr. Aster has held teaching and research posi...      M\n",
       "4            3   He runs a boutique design studio attending cl...      M\n",
       "5            4   He focuses on cloud security, identity and ac...      M\n",
       "...        ...                                                ...    ...\n",
       "271492  217192   A member of the UWA Cultural Collections Boar...      M\n",
       "271493  217193   Kelly has worked globally leading teams of co...      F\n",
       "271494  217194   He's the lead author of a recent study that f...      M\n",
       "271495  217195   She specializes in the theoretical and pedago...      F\n",
       "271496  217196   Since she was 10 years old she has become a m...      F\n",
       "\n",
       "[217197 rows x 3 columns]"
      ]
     },
     "execution_count": 3,
     "metadata": {},
     "output_type": "execute_result"
    }
   ],
   "source": [
    "train_df"
   ]
  },
  {
   "cell_type": "code",
   "execution_count": 4,
   "metadata": {},
   "outputs": [
    {
     "data": {
      "text/html": [
       "<div>\n",
       "<style scoped>\n",
       "    .dataframe tbody tr th:only-of-type {\n",
       "        vertical-align: middle;\n",
       "    }\n",
       "\n",
       "    .dataframe tbody tr th {\n",
       "        vertical-align: top;\n",
       "    }\n",
       "\n",
       "    .dataframe thead th {\n",
       "        text-align: right;\n",
       "    }\n",
       "</style>\n",
       "<table border=\"1\" class=\"dataframe\">\n",
       "  <thead>\n",
       "    <tr style=\"text-align: right;\">\n",
       "      <th></th>\n",
       "      <th>Id</th>\n",
       "      <th>Category</th>\n",
       "    </tr>\n",
       "  </thead>\n",
       "  <tbody>\n",
       "    <tr>\n",
       "      <th>0</th>\n",
       "      <td>0</td>\n",
       "      <td>19</td>\n",
       "    </tr>\n",
       "    <tr>\n",
       "      <th>1</th>\n",
       "      <td>1</td>\n",
       "      <td>9</td>\n",
       "    </tr>\n",
       "    <tr>\n",
       "      <th>2</th>\n",
       "      <td>2</td>\n",
       "      <td>19</td>\n",
       "    </tr>\n",
       "    <tr>\n",
       "      <th>3</th>\n",
       "      <td>3</td>\n",
       "      <td>24</td>\n",
       "    </tr>\n",
       "    <tr>\n",
       "      <th>4</th>\n",
       "      <td>4</td>\n",
       "      <td>24</td>\n",
       "    </tr>\n",
       "    <tr>\n",
       "      <th>...</th>\n",
       "      <td>...</td>\n",
       "      <td>...</td>\n",
       "    </tr>\n",
       "    <tr>\n",
       "      <th>217192</th>\n",
       "      <td>217192</td>\n",
       "      <td>19</td>\n",
       "    </tr>\n",
       "    <tr>\n",
       "      <th>217193</th>\n",
       "      <td>217193</td>\n",
       "      <td>22</td>\n",
       "    </tr>\n",
       "    <tr>\n",
       "      <th>217194</th>\n",
       "      <td>217194</td>\n",
       "      <td>19</td>\n",
       "    </tr>\n",
       "    <tr>\n",
       "      <th>217195</th>\n",
       "      <td>217195</td>\n",
       "      <td>19</td>\n",
       "    </tr>\n",
       "    <tr>\n",
       "      <th>217196</th>\n",
       "      <td>217196</td>\n",
       "      <td>1</td>\n",
       "    </tr>\n",
       "  </tbody>\n",
       "</table>\n",
       "<p>217197 rows × 2 columns</p>\n",
       "</div>"
      ],
      "text/plain": [
       "            Id  Category\n",
       "0            0        19\n",
       "1            1         9\n",
       "2            2        19\n",
       "3            3        24\n",
       "4            4        24\n",
       "...        ...       ...\n",
       "217192  217192        19\n",
       "217193  217193        22\n",
       "217194  217194        19\n",
       "217195  217195        19\n",
       "217196  217196         1\n",
       "\n",
       "[217197 rows x 2 columns]"
      ]
     },
     "execution_count": 4,
     "metadata": {},
     "output_type": "execute_result"
    }
   ],
   "source": [
    "train_label"
   ]
  },
  {
   "cell_type": "markdown",
   "metadata": {},
   "source": [
    "# Cleaning\n",
    "\n",
    "The only cleaning transformation applied here is that we `lower` the data so that all words are lower case. \n",
    "Hence `research`and `Research` will be considered as similar word.\n",
    "\n",
    "You might want to look at other cleaning step such that removing stopwords, stemming words, etc."
   ]
  },
  {
   "cell_type": "code",
   "execution_count": 5,
   "metadata": {},
   "outputs": [],
   "source": [
    "train_df[\"description_clean\"] = [x.lower() for x in train_df.description]\n",
    "\n",
    "# test_df[\"description_clean\"] = [x.lower() for x in test_df.description]"
   ]
  },
  {
   "cell_type": "code",
   "execution_count": 6,
   "metadata": {},
   "outputs": [
    {
     "data": {
      "text/html": [
       "<div>\n",
       "<style scoped>\n",
       "    .dataframe tbody tr th:only-of-type {\n",
       "        vertical-align: middle;\n",
       "    }\n",
       "\n",
       "    .dataframe tbody tr th {\n",
       "        vertical-align: top;\n",
       "    }\n",
       "\n",
       "    .dataframe thead th {\n",
       "        text-align: right;\n",
       "    }\n",
       "</style>\n",
       "<table border=\"1\" class=\"dataframe\">\n",
       "  <thead>\n",
       "    <tr style=\"text-align: right;\">\n",
       "      <th></th>\n",
       "      <th>Id</th>\n",
       "      <th>description</th>\n",
       "      <th>gender</th>\n",
       "      <th>description_clean</th>\n",
       "    </tr>\n",
       "  </thead>\n",
       "  <tbody>\n",
       "    <tr>\n",
       "      <th>0</th>\n",
       "      <td>0</td>\n",
       "      <td>She is also a Ronald D. Asmus Policy Entrepre...</td>\n",
       "      <td>F</td>\n",
       "      <td>she is also a ronald d. asmus policy entrepre...</td>\n",
       "    </tr>\n",
       "    <tr>\n",
       "      <th>1</th>\n",
       "      <td>1</td>\n",
       "      <td>He is a member of the AICPA and WICPA. Brent ...</td>\n",
       "      <td>M</td>\n",
       "      <td>he is a member of the aicpa and wicpa. brent ...</td>\n",
       "    </tr>\n",
       "    <tr>\n",
       "      <th>2</th>\n",
       "      <td>2</td>\n",
       "      <td>Dr. Aster has held teaching and research posi...</td>\n",
       "      <td>M</td>\n",
       "      <td>dr. aster has held teaching and research posi...</td>\n",
       "    </tr>\n",
       "    <tr>\n",
       "      <th>4</th>\n",
       "      <td>3</td>\n",
       "      <td>He runs a boutique design studio attending cl...</td>\n",
       "      <td>M</td>\n",
       "      <td>he runs a boutique design studio attending cl...</td>\n",
       "    </tr>\n",
       "    <tr>\n",
       "      <th>5</th>\n",
       "      <td>4</td>\n",
       "      <td>He focuses on cloud security, identity and ac...</td>\n",
       "      <td>M</td>\n",
       "      <td>he focuses on cloud security, identity and ac...</td>\n",
       "    </tr>\n",
       "    <tr>\n",
       "      <th>...</th>\n",
       "      <td>...</td>\n",
       "      <td>...</td>\n",
       "      <td>...</td>\n",
       "      <td>...</td>\n",
       "    </tr>\n",
       "    <tr>\n",
       "      <th>271492</th>\n",
       "      <td>217192</td>\n",
       "      <td>A member of the UWA Cultural Collections Boar...</td>\n",
       "      <td>M</td>\n",
       "      <td>a member of the uwa cultural collections boar...</td>\n",
       "    </tr>\n",
       "    <tr>\n",
       "      <th>271493</th>\n",
       "      <td>217193</td>\n",
       "      <td>Kelly has worked globally leading teams of co...</td>\n",
       "      <td>F</td>\n",
       "      <td>kelly has worked globally leading teams of co...</td>\n",
       "    </tr>\n",
       "    <tr>\n",
       "      <th>271494</th>\n",
       "      <td>217194</td>\n",
       "      <td>He's the lead author of a recent study that f...</td>\n",
       "      <td>M</td>\n",
       "      <td>he's the lead author of a recent study that f...</td>\n",
       "    </tr>\n",
       "    <tr>\n",
       "      <th>271495</th>\n",
       "      <td>217195</td>\n",
       "      <td>She specializes in the theoretical and pedago...</td>\n",
       "      <td>F</td>\n",
       "      <td>she specializes in the theoretical and pedago...</td>\n",
       "    </tr>\n",
       "    <tr>\n",
       "      <th>271496</th>\n",
       "      <td>217196</td>\n",
       "      <td>Since she was 10 years old she has become a m...</td>\n",
       "      <td>F</td>\n",
       "      <td>since she was 10 years old she has become a m...</td>\n",
       "    </tr>\n",
       "  </tbody>\n",
       "</table>\n",
       "<p>217197 rows × 4 columns</p>\n",
       "</div>"
      ],
      "text/plain": [
       "            Id                                        description gender  \\\n",
       "0            0   She is also a Ronald D. Asmus Policy Entrepre...      F   \n",
       "1            1   He is a member of the AICPA and WICPA. Brent ...      M   \n",
       "2            2   Dr. Aster has held teaching and research posi...      M   \n",
       "4            3   He runs a boutique design studio attending cl...      M   \n",
       "5            4   He focuses on cloud security, identity and ac...      M   \n",
       "...        ...                                                ...    ...   \n",
       "271492  217192   A member of the UWA Cultural Collections Boar...      M   \n",
       "271493  217193   Kelly has worked globally leading teams of co...      F   \n",
       "271494  217194   He's the lead author of a recent study that f...      M   \n",
       "271495  217195   She specializes in the theoretical and pedago...      F   \n",
       "271496  217196   Since she was 10 years old she has become a m...      F   \n",
       "\n",
       "                                        description_clean  \n",
       "0        she is also a ronald d. asmus policy entrepre...  \n",
       "1        he is a member of the aicpa and wicpa. brent ...  \n",
       "2        dr. aster has held teaching and research posi...  \n",
       "4        he runs a boutique design studio attending cl...  \n",
       "5        he focuses on cloud security, identity and ac...  \n",
       "...                                                   ...  \n",
       "271492   a member of the uwa cultural collections boar...  \n",
       "271493   kelly has worked globally leading teams of co...  \n",
       "271494   he's the lead author of a recent study that f...  \n",
       "271495   she specializes in the theoretical and pedago...  \n",
       "271496   since she was 10 years old she has become a m...  \n",
       "\n",
       "[217197 rows x 4 columns]"
      ]
     },
     "execution_count": 6,
     "metadata": {},
     "output_type": "execute_result"
    }
   ],
   "source": [
    "train_df"
   ]
  },
  {
   "cell_type": "markdown",
   "metadata": {},
   "source": [
    "# Fairness"
   ]
  },
  {
   "cell_type": "code",
   "execution_count": 7,
   "metadata": {},
   "outputs": [
    {
     "data": {
      "text/plain": [
       "{0: 'pastor',\n",
       " 1: 'model',\n",
       " 2: 'yoga_teacher',\n",
       " 3: 'teacher',\n",
       " 4: 'personal_trainer',\n",
       " 5: 'painter',\n",
       " 6: 'journalist',\n",
       " 7: 'interior_designer',\n",
       " 8: 'surgeon',\n",
       " 9: 'accountant',\n",
       " 10: 'dj',\n",
       " 11: 'physician',\n",
       " 12: 'comedian',\n",
       " 13: 'software_engineer',\n",
       " 14: 'nurse',\n",
       " 15: 'poet',\n",
       " 16: 'dentist',\n",
       " 17: 'chiropractor',\n",
       " 18: 'filmmaker',\n",
       " 19: 'professor',\n",
       " 20: 'photographer',\n",
       " 21: 'rapper',\n",
       " 22: 'psychologist',\n",
       " 23: 'paralegal',\n",
       " 24: 'architect',\n",
       " 25: 'composer',\n",
       " 26: 'attorney',\n",
       " 27: 'dietitian'}"
      ]
     },
     "execution_count": 7,
     "metadata": {},
     "output_type": "execute_result"
    }
   ],
   "source": [
    "names = pd.read_csv(DATA_PATH+'/categories_string.csv')['0'].to_dict()\n",
    "names  # dictionnaire entre numéro de catégorie et job string"
   ]
  },
  {
   "cell_type": "code",
   "execution_count": 8,
   "metadata": {},
   "outputs": [],
   "source": [
    "# A chaque index, fait correspondre le job en clair\n",
    "jobs = train_label['Category']\n",
    "jobs = jobs.map(names)\n",
    "jobs = jobs.rename('job')"
   ]
  },
  {
   "cell_type": "code",
   "execution_count": 9,
   "metadata": {},
   "outputs": [
    {
     "data": {
      "text/plain": [
       "0            professor\n",
       "1           accountant\n",
       "2            professor\n",
       "3            architect\n",
       "4            architect\n",
       "              ...     \n",
       "217192       professor\n",
       "217193    psychologist\n",
       "217194       professor\n",
       "217195       professor\n",
       "217196           model\n",
       "Name: job, Length: 217197, dtype: object"
      ]
     },
     "execution_count": 9,
     "metadata": {},
     "output_type": "execute_result"
    }
   ],
   "source": [
    "jobs"
   ]
  },
  {
   "cell_type": "code",
   "execution_count": 10,
   "metadata": {},
   "outputs": [],
   "source": [
    "genders = train_df.set_index('Id')['gender']"
   ]
  },
  {
   "cell_type": "code",
   "execution_count": 11,
   "metadata": {},
   "outputs": [
    {
     "data": {
      "text/plain": [
       "Id\n",
       "0         F\n",
       "1         M\n",
       "2         M\n",
       "3         M\n",
       "4         M\n",
       "         ..\n",
       "217192    M\n",
       "217193    F\n",
       "217194    M\n",
       "217195    F\n",
       "217196    F\n",
       "Name: gender, Length: 217197, dtype: object"
      ]
     },
     "execution_count": 11,
     "metadata": {},
     "output_type": "execute_result"
    }
   ],
   "source": [
    "genders"
   ]
  },
  {
   "cell_type": "code",
   "execution_count": 12,
   "metadata": {},
   "outputs": [],
   "source": [
    "people = pd.concat((jobs, genders), axis='columns')"
   ]
  },
  {
   "cell_type": "code",
   "execution_count": 13,
   "metadata": {},
   "outputs": [
    {
     "data": {
      "text/html": [
       "<div>\n",
       "<style scoped>\n",
       "    .dataframe tbody tr th:only-of-type {\n",
       "        vertical-align: middle;\n",
       "    }\n",
       "\n",
       "    .dataframe tbody tr th {\n",
       "        vertical-align: top;\n",
       "    }\n",
       "\n",
       "    .dataframe thead th {\n",
       "        text-align: right;\n",
       "    }\n",
       "</style>\n",
       "<table border=\"1\" class=\"dataframe\">\n",
       "  <thead>\n",
       "    <tr style=\"text-align: right;\">\n",
       "      <th></th>\n",
       "      <th>job</th>\n",
       "      <th>gender</th>\n",
       "    </tr>\n",
       "  </thead>\n",
       "  <tbody>\n",
       "    <tr>\n",
       "      <th>0</th>\n",
       "      <td>professor</td>\n",
       "      <td>F</td>\n",
       "    </tr>\n",
       "    <tr>\n",
       "      <th>1</th>\n",
       "      <td>accountant</td>\n",
       "      <td>M</td>\n",
       "    </tr>\n",
       "    <tr>\n",
       "      <th>2</th>\n",
       "      <td>professor</td>\n",
       "      <td>M</td>\n",
       "    </tr>\n",
       "    <tr>\n",
       "      <th>3</th>\n",
       "      <td>architect</td>\n",
       "      <td>M</td>\n",
       "    </tr>\n",
       "    <tr>\n",
       "      <th>4</th>\n",
       "      <td>architect</td>\n",
       "      <td>M</td>\n",
       "    </tr>\n",
       "    <tr>\n",
       "      <th>...</th>\n",
       "      <td>...</td>\n",
       "      <td>...</td>\n",
       "    </tr>\n",
       "    <tr>\n",
       "      <th>217192</th>\n",
       "      <td>professor</td>\n",
       "      <td>M</td>\n",
       "    </tr>\n",
       "    <tr>\n",
       "      <th>217193</th>\n",
       "      <td>psychologist</td>\n",
       "      <td>F</td>\n",
       "    </tr>\n",
       "    <tr>\n",
       "      <th>217194</th>\n",
       "      <td>professor</td>\n",
       "      <td>M</td>\n",
       "    </tr>\n",
       "    <tr>\n",
       "      <th>217195</th>\n",
       "      <td>professor</td>\n",
       "      <td>F</td>\n",
       "    </tr>\n",
       "    <tr>\n",
       "      <th>217196</th>\n",
       "      <td>model</td>\n",
       "      <td>F</td>\n",
       "    </tr>\n",
       "  </tbody>\n",
       "</table>\n",
       "<p>217197 rows × 2 columns</p>\n",
       "</div>"
      ],
      "text/plain": [
       "                 job gender\n",
       "0          professor      F\n",
       "1         accountant      M\n",
       "2          professor      M\n",
       "3          architect      M\n",
       "4          architect      M\n",
       "...              ...    ...\n",
       "217192     professor      M\n",
       "217193  psychologist      F\n",
       "217194     professor      M\n",
       "217195     professor      F\n",
       "217196         model      F\n",
       "\n",
       "[217197 rows x 2 columns]"
      ]
     },
     "execution_count": 13,
     "metadata": {},
     "output_type": "execute_result"
    }
   ],
   "source": [
    "people"
   ]
  },
  {
   "cell_type": "code",
   "execution_count": 14,
   "metadata": {},
   "outputs": [
    {
     "data": {
      "text/html": [
       "<div>\n",
       "<style scoped>\n",
       "    .dataframe tbody tr th:only-of-type {\n",
       "        vertical-align: middle;\n",
       "    }\n",
       "\n",
       "    .dataframe tbody tr th {\n",
       "        vertical-align: top;\n",
       "    }\n",
       "\n",
       "    .dataframe thead th {\n",
       "        text-align: right;\n",
       "    }\n",
       "</style>\n",
       "<table border=\"1\" class=\"dataframe\">\n",
       "  <thead>\n",
       "    <tr style=\"text-align: right;\">\n",
       "      <th>gender</th>\n",
       "      <th>F</th>\n",
       "      <th>M</th>\n",
       "    </tr>\n",
       "    <tr>\n",
       "      <th>job</th>\n",
       "      <th></th>\n",
       "      <th></th>\n",
       "    </tr>\n",
       "  </thead>\n",
       "  <tbody>\n",
       "    <tr>\n",
       "      <th>accountant</th>\n",
       "      <td>1129</td>\n",
       "      <td>1992</td>\n",
       "    </tr>\n",
       "    <tr>\n",
       "      <th>architect</th>\n",
       "      <td>1314</td>\n",
       "      <td>4527</td>\n",
       "    </tr>\n",
       "    <tr>\n",
       "      <th>attorney</th>\n",
       "      <td>7106</td>\n",
       "      <td>11714</td>\n",
       "    </tr>\n",
       "    <tr>\n",
       "      <th>chiropractor</th>\n",
       "      <td>391</td>\n",
       "      <td>1015</td>\n",
       "    </tr>\n",
       "    <tr>\n",
       "      <th>comedian</th>\n",
       "      <td>345</td>\n",
       "      <td>1294</td>\n",
       "    </tr>\n",
       "    <tr>\n",
       "      <th>composer</th>\n",
       "      <td>553</td>\n",
       "      <td>2842</td>\n",
       "    </tr>\n",
       "    <tr>\n",
       "      <th>dentist</th>\n",
       "      <td>1895</td>\n",
       "      <td>3555</td>\n",
       "    </tr>\n",
       "    <tr>\n",
       "      <th>dietitian</th>\n",
       "      <td>2120</td>\n",
       "      <td>168</td>\n",
       "    </tr>\n",
       "    <tr>\n",
       "      <th>dj</th>\n",
       "      <td>125</td>\n",
       "      <td>706</td>\n",
       "    </tr>\n",
       "    <tr>\n",
       "      <th>filmmaker</th>\n",
       "      <td>1394</td>\n",
       "      <td>2730</td>\n",
       "    </tr>\n",
       "    <tr>\n",
       "      <th>interior_designer</th>\n",
       "      <td>694</td>\n",
       "      <td>164</td>\n",
       "    </tr>\n",
       "    <tr>\n",
       "      <th>journalist</th>\n",
       "      <td>6123</td>\n",
       "      <td>6172</td>\n",
       "    </tr>\n",
       "    <tr>\n",
       "      <th>model</th>\n",
       "      <td>3398</td>\n",
       "      <td>717</td>\n",
       "    </tr>\n",
       "    <tr>\n",
       "      <th>nurse</th>\n",
       "      <td>11493</td>\n",
       "      <td>1129</td>\n",
       "    </tr>\n",
       "    <tr>\n",
       "      <th>painter</th>\n",
       "      <td>2131</td>\n",
       "      <td>2490</td>\n",
       "    </tr>\n",
       "    <tr>\n",
       "      <th>paralegal</th>\n",
       "      <td>814</td>\n",
       "      <td>153</td>\n",
       "    </tr>\n",
       "    <tr>\n",
       "      <th>pastor</th>\n",
       "      <td>360</td>\n",
       "      <td>1137</td>\n",
       "    </tr>\n",
       "    <tr>\n",
       "      <th>personal_trainer</th>\n",
       "      <td>364</td>\n",
       "      <td>443</td>\n",
       "    </tr>\n",
       "    <tr>\n",
       "      <th>photographer</th>\n",
       "      <td>5129</td>\n",
       "      <td>9517</td>\n",
       "    </tr>\n",
       "    <tr>\n",
       "      <th>physician</th>\n",
       "      <td>4581</td>\n",
       "      <td>7026</td>\n",
       "    </tr>\n",
       "    <tr>\n",
       "      <th>poet</th>\n",
       "      <td>2153</td>\n",
       "      <td>2139</td>\n",
       "    </tr>\n",
       "    <tr>\n",
       "      <th>professor</th>\n",
       "      <td>31424</td>\n",
       "      <td>38592</td>\n",
       "    </tr>\n",
       "    <tr>\n",
       "      <th>psychologist</th>\n",
       "      <td>6418</td>\n",
       "      <td>3973</td>\n",
       "    </tr>\n",
       "    <tr>\n",
       "      <th>rapper</th>\n",
       "      <td>64</td>\n",
       "      <td>719</td>\n",
       "    </tr>\n",
       "    <tr>\n",
       "      <th>software_engineer</th>\n",
       "      <td>613</td>\n",
       "      <td>3447</td>\n",
       "    </tr>\n",
       "    <tr>\n",
       "      <th>surgeon</th>\n",
       "      <td>890</td>\n",
       "      <td>5726</td>\n",
       "    </tr>\n",
       "    <tr>\n",
       "      <th>teacher</th>\n",
       "      <td>5420</td>\n",
       "      <td>3725</td>\n",
       "    </tr>\n",
       "    <tr>\n",
       "      <th>yoga_teacher</th>\n",
       "      <td>803</td>\n",
       "      <td>141</td>\n",
       "    </tr>\n",
       "  </tbody>\n",
       "</table>\n",
       "</div>"
      ],
      "text/plain": [
       "gender                 F      M\n",
       "job                            \n",
       "accountant          1129   1992\n",
       "architect           1314   4527\n",
       "attorney            7106  11714\n",
       "chiropractor         391   1015\n",
       "comedian             345   1294\n",
       "composer             553   2842\n",
       "dentist             1895   3555\n",
       "dietitian           2120    168\n",
       "dj                   125    706\n",
       "filmmaker           1394   2730\n",
       "interior_designer    694    164\n",
       "journalist          6123   6172\n",
       "model               3398    717\n",
       "nurse              11493   1129\n",
       "painter             2131   2490\n",
       "paralegal            814    153\n",
       "pastor               360   1137\n",
       "personal_trainer     364    443\n",
       "photographer        5129   9517\n",
       "physician           4581   7026\n",
       "poet                2153   2139\n",
       "professor          31424  38592\n",
       "psychologist        6418   3973\n",
       "rapper                64    719\n",
       "software_engineer    613   3447\n",
       "surgeon              890   5726\n",
       "teacher             5420   3725\n",
       "yoga_teacher         803    141"
      ]
     },
     "execution_count": 14,
     "metadata": {},
     "output_type": "execute_result"
    }
   ],
   "source": [
    "counts = people.groupby(['job', 'gender']).size().unstack('gender')\n",
    "counts"
   ]
  },
  {
   "cell_type": "code",
   "execution_count": 15,
   "metadata": {},
   "outputs": [
    {
     "data": {
      "text/html": [
       "<div>\n",
       "<style scoped>\n",
       "    .dataframe tbody tr th:only-of-type {\n",
       "        vertical-align: middle;\n",
       "    }\n",
       "\n",
       "    .dataframe tbody tr th {\n",
       "        vertical-align: top;\n",
       "    }\n",
       "\n",
       "    .dataframe thead th {\n",
       "        text-align: right;\n",
       "    }\n",
       "</style>\n",
       "<table border=\"1\" class=\"dataframe\">\n",
       "  <thead>\n",
       "    <tr style=\"text-align: right;\">\n",
       "      <th>gender</th>\n",
       "      <th>F</th>\n",
       "      <th>M</th>\n",
       "      <th>disparate_impact</th>\n",
       "    </tr>\n",
       "    <tr>\n",
       "      <th>job</th>\n",
       "      <th></th>\n",
       "      <th></th>\n",
       "      <th></th>\n",
       "    </tr>\n",
       "  </thead>\n",
       "  <tbody>\n",
       "    <tr>\n",
       "      <th>dietitian</th>\n",
       "      <td>2120</td>\n",
       "      <td>168</td>\n",
       "      <td>12.619048</td>\n",
       "    </tr>\n",
       "    <tr>\n",
       "      <th>rapper</th>\n",
       "      <td>64</td>\n",
       "      <td>719</td>\n",
       "      <td>11.234375</td>\n",
       "    </tr>\n",
       "    <tr>\n",
       "      <th>nurse</th>\n",
       "      <td>11493</td>\n",
       "      <td>1129</td>\n",
       "      <td>10.179805</td>\n",
       "    </tr>\n",
       "    <tr>\n",
       "      <th>surgeon</th>\n",
       "      <td>890</td>\n",
       "      <td>5726</td>\n",
       "      <td>6.433708</td>\n",
       "    </tr>\n",
       "    <tr>\n",
       "      <th>yoga_teacher</th>\n",
       "      <td>803</td>\n",
       "      <td>141</td>\n",
       "      <td>5.695035</td>\n",
       "    </tr>\n",
       "    <tr>\n",
       "      <th>dj</th>\n",
       "      <td>125</td>\n",
       "      <td>706</td>\n",
       "      <td>5.648000</td>\n",
       "    </tr>\n",
       "    <tr>\n",
       "      <th>software_engineer</th>\n",
       "      <td>613</td>\n",
       "      <td>3447</td>\n",
       "      <td>5.623165</td>\n",
       "    </tr>\n",
       "    <tr>\n",
       "      <th>paralegal</th>\n",
       "      <td>814</td>\n",
       "      <td>153</td>\n",
       "      <td>5.320261</td>\n",
       "    </tr>\n",
       "    <tr>\n",
       "      <th>composer</th>\n",
       "      <td>553</td>\n",
       "      <td>2842</td>\n",
       "      <td>5.139241</td>\n",
       "    </tr>\n",
       "    <tr>\n",
       "      <th>model</th>\n",
       "      <td>3398</td>\n",
       "      <td>717</td>\n",
       "      <td>4.739191</td>\n",
       "    </tr>\n",
       "    <tr>\n",
       "      <th>interior_designer</th>\n",
       "      <td>694</td>\n",
       "      <td>164</td>\n",
       "      <td>4.231707</td>\n",
       "    </tr>\n",
       "    <tr>\n",
       "      <th>comedian</th>\n",
       "      <td>345</td>\n",
       "      <td>1294</td>\n",
       "      <td>3.750725</td>\n",
       "    </tr>\n",
       "    <tr>\n",
       "      <th>architect</th>\n",
       "      <td>1314</td>\n",
       "      <td>4527</td>\n",
       "      <td>3.445205</td>\n",
       "    </tr>\n",
       "    <tr>\n",
       "      <th>pastor</th>\n",
       "      <td>360</td>\n",
       "      <td>1137</td>\n",
       "      <td>3.158333</td>\n",
       "    </tr>\n",
       "    <tr>\n",
       "      <th>chiropractor</th>\n",
       "      <td>391</td>\n",
       "      <td>1015</td>\n",
       "      <td>2.595908</td>\n",
       "    </tr>\n",
       "    <tr>\n",
       "      <th>filmmaker</th>\n",
       "      <td>1394</td>\n",
       "      <td>2730</td>\n",
       "      <td>1.958393</td>\n",
       "    </tr>\n",
       "    <tr>\n",
       "      <th>dentist</th>\n",
       "      <td>1895</td>\n",
       "      <td>3555</td>\n",
       "      <td>1.875989</td>\n",
       "    </tr>\n",
       "    <tr>\n",
       "      <th>photographer</th>\n",
       "      <td>5129</td>\n",
       "      <td>9517</td>\n",
       "      <td>1.855527</td>\n",
       "    </tr>\n",
       "    <tr>\n",
       "      <th>accountant</th>\n",
       "      <td>1129</td>\n",
       "      <td>1992</td>\n",
       "      <td>1.764393</td>\n",
       "    </tr>\n",
       "    <tr>\n",
       "      <th>attorney</th>\n",
       "      <td>7106</td>\n",
       "      <td>11714</td>\n",
       "      <td>1.648466</td>\n",
       "    </tr>\n",
       "    <tr>\n",
       "      <th>psychologist</th>\n",
       "      <td>6418</td>\n",
       "      <td>3973</td>\n",
       "      <td>1.615404</td>\n",
       "    </tr>\n",
       "    <tr>\n",
       "      <th>physician</th>\n",
       "      <td>4581</td>\n",
       "      <td>7026</td>\n",
       "      <td>1.533726</td>\n",
       "    </tr>\n",
       "    <tr>\n",
       "      <th>teacher</th>\n",
       "      <td>5420</td>\n",
       "      <td>3725</td>\n",
       "      <td>1.455034</td>\n",
       "    </tr>\n",
       "    <tr>\n",
       "      <th>professor</th>\n",
       "      <td>31424</td>\n",
       "      <td>38592</td>\n",
       "      <td>1.228106</td>\n",
       "    </tr>\n",
       "    <tr>\n",
       "      <th>personal_trainer</th>\n",
       "      <td>364</td>\n",
       "      <td>443</td>\n",
       "      <td>1.217033</td>\n",
       "    </tr>\n",
       "    <tr>\n",
       "      <th>painter</th>\n",
       "      <td>2131</td>\n",
       "      <td>2490</td>\n",
       "      <td>1.168466</td>\n",
       "    </tr>\n",
       "    <tr>\n",
       "      <th>journalist</th>\n",
       "      <td>6123</td>\n",
       "      <td>6172</td>\n",
       "      <td>1.008003</td>\n",
       "    </tr>\n",
       "    <tr>\n",
       "      <th>poet</th>\n",
       "      <td>2153</td>\n",
       "      <td>2139</td>\n",
       "      <td>1.006545</td>\n",
       "    </tr>\n",
       "  </tbody>\n",
       "</table>\n",
       "</div>"
      ],
      "text/plain": [
       "gender                 F      M  disparate_impact\n",
       "job                                              \n",
       "dietitian           2120    168         12.619048\n",
       "rapper                64    719         11.234375\n",
       "nurse              11493   1129         10.179805\n",
       "surgeon              890   5726          6.433708\n",
       "yoga_teacher         803    141          5.695035\n",
       "dj                   125    706          5.648000\n",
       "software_engineer    613   3447          5.623165\n",
       "paralegal            814    153          5.320261\n",
       "composer             553   2842          5.139241\n",
       "model               3398    717          4.739191\n",
       "interior_designer    694    164          4.231707\n",
       "comedian             345   1294          3.750725\n",
       "architect           1314   4527          3.445205\n",
       "pastor               360   1137          3.158333\n",
       "chiropractor         391   1015          2.595908\n",
       "filmmaker           1394   2730          1.958393\n",
       "dentist             1895   3555          1.875989\n",
       "photographer        5129   9517          1.855527\n",
       "accountant          1129   1992          1.764393\n",
       "attorney            7106  11714          1.648466\n",
       "psychologist        6418   3973          1.615404\n",
       "physician           4581   7026          1.533726\n",
       "teacher             5420   3725          1.455034\n",
       "professor          31424  38592          1.228106\n",
       "personal_trainer     364    443          1.217033\n",
       "painter             2131   2490          1.168466\n",
       "journalist          6123   6172          1.008003\n",
       "poet                2153   2139          1.006545"
      ]
     },
     "execution_count": 15,
     "metadata": {},
     "output_type": "execute_result"
    }
   ],
   "source": [
    "counts['disparate_impact'] = counts[['M', 'F']].max(axis='columns') / counts[['M', 'F']].min(axis='columns')\n",
    "counts.sort_values('disparate_impact', ascending=False)"
   ]
  },
  {
   "cell_type": "code",
   "execution_count": 16,
   "metadata": {},
   "outputs": [],
   "source": [
    "def macro_disparate_impact(people):\n",
    "    counts = people.groupby(['job', 'gender']).size().unstack('gender')\n",
    "    counts['disparate_impact'] = counts[['M', 'F']].max(axis='columns') / counts[['M', 'F']].min(axis='columns')\n",
    "    return counts"
   ]
  },
  {
   "cell_type": "code",
   "execution_count": 17,
   "metadata": {},
   "outputs": [
    {
     "name": "stdout",
     "output_type": "stream",
     "text": [
      "gender                 F      M  disparate_impact\n",
      "job                                              \n",
      "accountant          1129   1992          1.764393\n",
      "architect           1314   4527          3.445205\n",
      "attorney            7106  11714          1.648466\n",
      "chiropractor         391   1015          2.595908\n",
      "comedian             345   1294          3.750725\n",
      "composer             553   2842          5.139241\n",
      "dentist             1895   3555          1.875989\n",
      "dietitian           2120    168         12.619048\n",
      "dj                   125    706          5.648000\n",
      "filmmaker           1394   2730          1.958393\n",
      "interior_designer    694    164          4.231707\n",
      "journalist          6123   6172          1.008003\n",
      "model               3398    717          4.739191\n",
      "nurse              11493   1129         10.179805\n",
      "painter             2131   2490          1.168466\n",
      "paralegal            814    153          5.320261\n",
      "pastor               360   1137          3.158333\n",
      "personal_trainer     364    443          1.217033\n",
      "photographer        5129   9517          1.855527\n",
      "physician           4581   7026          1.533726\n",
      "poet                2153   2139          1.006545\n",
      "professor          31424  38592          1.228106\n",
      "psychologist        6418   3973          1.615404\n",
      "rapper                64    719         11.234375\n",
      "software_engineer    613   3447          5.623165\n",
      "surgeon              890   5726          6.433708\n",
      "teacher             5420   3725          1.455034\n",
      "yoga_teacher         803    141          5.695035\n",
      "BASELINE Disparate Impact =  3.898171170378378\n"
     ]
    }
   ],
   "source": [
    "counts = macro_disparate_impact(people)\n",
    "print(counts)\n",
    "print (\"BASELINE Disparate Impact = \", counts['disparate_impact'].mean())"
   ]
  },
  {
   "cell_type": "markdown",
   "metadata": {},
   "source": [
    "# Préparation Data"
   ]
  },
  {
   "cell_type": "code",
   "execution_count": 18,
   "metadata": {},
   "outputs": [],
   "source": [
    "descriptions = train_df.set_index('Id')['description_clean']"
   ]
  },
  {
   "cell_type": "code",
   "execution_count": 19,
   "metadata": {},
   "outputs": [
    {
     "data": {
      "text/plain": [
       "Id\n",
       "0          she is also a ronald d. asmus policy entrepre...\n",
       "1          he is a member of the aicpa and wicpa. brent ...\n",
       "2          dr. aster has held teaching and research posi...\n",
       "3          he runs a boutique design studio attending cl...\n",
       "4          he focuses on cloud security, identity and ac...\n",
       "                                ...                        \n",
       "217192     a member of the uwa cultural collections boar...\n",
       "217193     kelly has worked globally leading teams of co...\n",
       "217194     he's the lead author of a recent study that f...\n",
       "217195     she specializes in the theoretical and pedago...\n",
       "217196     since she was 10 years old she has become a m...\n",
       "Name: description_clean, Length: 217197, dtype: object"
      ]
     },
     "execution_count": 19,
     "metadata": {},
     "output_type": "execute_result"
    }
   ],
   "source": [
    "descriptions"
   ]
  },
  {
   "cell_type": "code",
   "execution_count": 20,
   "metadata": {},
   "outputs": [],
   "source": [
    "X_train, X_test, y_train, y_test, gender_train, gender_test = model_selection.train_test_split(\n",
    "    descriptions,\n",
    "    jobs,\n",
    "    genders,\n",
    "    test_size=0.9,    # ratio du set utilisé pour le test\n",
    "    random_state=42\n",
    ")"
   ]
  },
  {
   "cell_type": "code",
   "execution_count": 21,
   "metadata": {},
   "outputs": [
    {
     "data": {
      "text/plain": [
       "Id\n",
       "123299     he is regarded as the “king of the college ci...\n",
       "186376     he leads a research group that uses numerical...\n",
       "87971      he graduated cum laude with a b.s. in biology...\n",
       "151965     she is the director of the cancer rehabilitat...\n",
       "172959     currently, she is producing a documentary tha...\n",
       "                                ...                        \n",
       "119879     she was born in walsall on june 6, 1992. she ...\n",
       "103694     prior to this role, elika worked from 2012 to...\n",
       "131932     he was visiting scholar at indiana university...\n",
       "146867     he w\\has a net worth of $100 million. in addi...\n",
       "121958     gallagher school. this is her 24th year teach...\n",
       "Name: description_clean, Length: 21719, dtype: object"
      ]
     },
     "execution_count": 21,
     "metadata": {},
     "output_type": "execute_result"
    }
   ],
   "source": [
    "X_train"
   ]
  },
  {
   "cell_type": "code",
   "execution_count": 22,
   "metadata": {},
   "outputs": [
    {
     "data": {
      "text/plain": [
       "123299     comedian\n",
       "186376    professor\n",
       "87971       dentist\n",
       "151965    professor\n",
       "172959         poet\n",
       "            ...    \n",
       "119879        model\n",
       "103694     attorney\n",
       "131932    professor\n",
       "146867       pastor\n",
       "121958      teacher\n",
       "Name: job, Length: 21719, dtype: object"
      ]
     },
     "execution_count": 22,
     "metadata": {},
     "output_type": "execute_result"
    }
   ],
   "source": [
    "y_train"
   ]
  },
  {
   "cell_type": "code",
   "execution_count": 23,
   "metadata": {},
   "outputs": [
    {
     "data": {
      "text/plain": [
       "Id\n",
       "83232      her research area is engineering education. s...\n",
       "19036      he joined the faculty at isu in 2007 followin...\n",
       "35087      he likes to shoot unposed photographs of inte...\n",
       "86945      he received a b.s. with honors in electrical ...\n",
       "79762      in 2003 she began writing and editing for loc...\n",
       "                                ...                        \n",
       "80570      he has 22 years of experience. his specialtie...\n",
       "180603     he has over 4.5 years of consulting experienc...\n",
       "202523     she is passionate about holistic health and n...\n",
       "25236      she serves as the washington bureau chief for...\n",
       "163471     she is the author of two books, the woodcarve...\n",
       "Name: description_clean, Length: 195478, dtype: object"
      ]
     },
     "execution_count": 23,
     "metadata": {},
     "output_type": "execute_result"
    }
   ],
   "source": [
    "X_test"
   ]
  },
  {
   "cell_type": "code",
   "execution_count": 24,
   "metadata": {},
   "outputs": [
    {
     "data": {
      "text/plain": [
       "83232        professor\n",
       "19036        professor\n",
       "35087     photographer\n",
       "86945        professor\n",
       "79762        architect\n",
       "              ...     \n",
       "80570          dentist\n",
       "180603       professor\n",
       "202523    photographer\n",
       "25236       journalist\n",
       "163471            poet\n",
       "Name: job, Length: 195478, dtype: object"
      ]
     },
     "execution_count": 24,
     "metadata": {},
     "output_type": "execute_result"
    }
   ],
   "source": [
    "y_test"
   ]
  },
  {
   "cell_type": "code",
   "execution_count": 25,
   "metadata": {},
   "outputs": [
    {
     "data": {
      "text/plain": [
       "Id\n",
       "83232     F\n",
       "19036     M\n",
       "35087     M\n",
       "86945     M\n",
       "79762     F\n",
       "         ..\n",
       "80570     M\n",
       "180603    M\n",
       "202523    F\n",
       "25236     F\n",
       "163471    F\n",
       "Name: gender, Length: 195478, dtype: object"
      ]
     },
     "execution_count": 25,
     "metadata": {},
     "output_type": "execute_result"
    }
   ],
   "source": [
    "gender_test"
   ]
  },
  {
   "cell_type": "markdown",
   "metadata": {},
   "source": [
    "## Fonction évaluation d'un modèle"
   ]
  },
  {
   "cell_type": "code",
   "execution_count": 26,
   "metadata": {},
   "outputs": [],
   "source": [
    "def eval(modele, nom = \"inconnu\"):\n",
    "    # fit et mesure temps\n",
    "    print(\"évaluation modèle : \" + nom)\n",
    "    print(\"----------------------\")\n",
    "    print(\"start training\")\n",
    "    start = time.perf_counter()\n",
    "    modele = modele.fit(X_train, y_train)\n",
    "    end = time.perf_counter()\n",
    "    duree_min = int((end - start)/60)\n",
    "    print(\"fin training en \"+str(duree_min)+\" minutes\")\n",
    "    print(\"----------------------\")\n",
    "    print(\" \")\n",
    "    # prédictions\n",
    "    y_pred = modele.predict(X_test)\n",
    "    y_pred = pd.Series(y_pred, name='job', index=X_test.index)\n",
    "    # F1-scores et Macro-F1\n",
    "    scores = f1_score(y_test, y_pred, average=None, sample_weight=None, zero_division='warn')\n",
    "    print(\"F1 scores = \", scores)\n",
    "    print (\"Macro-F1 = \", scores.mean())\n",
    "    print(\" \")\n",
    "    # Disparate Impact\n",
    "    test_people = pd.concat((y_pred, gender_test), axis='columns')\n",
    "    counts = macro_disparate_impact(test_people)\n",
    "    print(\"----------------------\")\n",
    "    print(counts)\n",
    "    print(\" \")\n",
    "    print(\"Score disparate impact = \", counts['disparate_impact'].mean())\n",
    "    print(\"----------------------\")"
   ]
  },
  {
   "cell_type": "markdown",
   "metadata": {},
   "source": [
    "# BASELINE - Modèle Regression Logistique"
   ]
  },
  {
   "cell_type": "markdown",
   "metadata": {},
   "source": [
    "We use TfidfVectorizer to transform words from text to numerical vector data.  \n",
    "\n",
    "More vectorize are available on scikit-learn -> https://scikit-learn.org/stable/modules/classes.html#module-sklearn.feature_extraction.text\n",
    "\n",
    "You also may want to have a look at words embedding methods (Word2vec, Glove, etc..)"
   ]
  },
  {
   "cell_type": "code",
   "execution_count": 27,
   "metadata": {},
   "outputs": [],
   "source": [
    "vect = TfidfVectorizer()  # Vectorisation 'basique'"
   ]
  },
  {
   "cell_type": "code",
   "execution_count": 28,
   "metadata": {},
   "outputs": [],
   "source": [
    "norm = preprocessing.Normalizer()   # Normalisation"
   ]
  },
  {
   "cell_type": "code",
   "execution_count": 29,
   "metadata": {},
   "outputs": [],
   "source": [
    "core = LogisticRegression(multi_class='multinomial',\n",
    "                          tol = 0.1, # pour une convergence rapide\n",
    "                          max_iter = 1000)    # Regression logistique basique"
   ]
  },
  {
   "cell_type": "code",
   "execution_count": 30,
   "metadata": {},
   "outputs": [],
   "source": [
    "liste_composants = [('Vectorisation', vect),\n",
    "                    ('Normalisation', norm),\n",
    "                    ('Coeur', core)]"
   ]
  },
  {
   "cell_type": "code",
   "execution_count": 31,
   "metadata": {},
   "outputs": [],
   "source": [
    "modele = Pipeline(liste_composants)"
   ]
  },
  {
   "cell_type": "code",
   "execution_count": 32,
   "metadata": {},
   "outputs": [],
   "source": [
    "# eval(modele,\"regresion logistique\")"
   ]
  },
  {
   "cell_type": "markdown",
   "metadata": {},
   "source": [
    "# MODELE 1 - Regression Logistique avec Weighted Classes"
   ]
  },
  {
   "cell_type": "code",
   "execution_count": 33,
   "metadata": {},
   "outputs": [],
   "source": [
    "vect = TfidfVectorizer()  # Vectorisation 'basique'\n",
    "norm = preprocessing.Normalizer()   # Normalisation\n",
    "core = LogisticRegression(multi_class='multinomial',\n",
    "                          tol = 0.1, # pour une convergence rapide\n",
    "                          max_iter = 1000,\n",
    "                          class_weight = 'balanced',   # classes pondérées\n",
    "                         )   \n",
    "\n",
    "liste_composants = [('Vectorisation', vect),\n",
    "                    ('Normalisation', norm),\n",
    "                    ('Coeur', core)]\n",
    "\n",
    "modele = Pipeline(liste_composants)"
   ]
  },
  {
   "cell_type": "code",
   "execution_count": 34,
   "metadata": {},
   "outputs": [],
   "source": [
    "# eval(modele,\"regresion logistique avec weighted classes\")"
   ]
  },
  {
   "cell_type": "markdown",
   "metadata": {},
   "source": [
    "# MODELE 2 - SVM weighted classes"
   ]
  },
  {
   "cell_type": "code",
   "execution_count": 35,
   "metadata": {},
   "outputs": [],
   "source": [
    "vect = TfidfVectorizer()  # Vectorisation 'basique'\n",
    "norm = preprocessing.Normalizer()   # Normalisation\n",
    "core = SVC(C = 1.0, # coeff régularisation L2\n",
    "           kernel = 'rbf', # Gaussian Kernel, classique, \n",
    "           # https://en.wikipedia.org/wiki/Radial_basis_function_kernel\n",
    "           gamma = 'scale', # choix paramètre du Gaussian Kernel\n",
    "           tol = 0.1,  # tolérance basse pour ne pas trop attendre\n",
    "           class_weight = 'balanced',  # permet d'affecter des poids en fonction de la fréquence des classes.\n",
    "           max_iter = 10000,   # on augmente le nombre d'itérations pour avoir la convergence\n",
    "           decision_function_shape = 'ovr', # one-versus-rest classifiers en multi-classes\n",
    "           verbose = True\n",
    "           )\n",
    "\n",
    "liste_composants = [('Vectorisation', vect),\n",
    "                    ('Normalisation', norm),\n",
    "                    ('Coeur', core)]\n",
    "\n",
    "modele = Pipeline(liste_composants)"
   ]
  },
  {
   "cell_type": "code",
   "execution_count": 36,
   "metadata": {},
   "outputs": [],
   "source": [
    "# eval(modele,\"SVM weighted classes\")"
   ]
  },
  {
   "cell_type": "markdown",
   "metadata": {},
   "source": [
    "# MODELE 3 - Decision Tree"
   ]
  },
  {
   "cell_type": "code",
   "execution_count": 37,
   "metadata": {},
   "outputs": [],
   "source": [
    "vect = TfidfVectorizer()  # Vectorisation 'basique'\n",
    "# norm = preprocessing.Normalizer()   # Normalisation\n",
    "core = DecisionTreeClassifier(max_depth = None,  # profondeur max de l'arbre\n",
    "                              min_samples_split = 2,  # taille minimum pour splitter une branche : 2 points\n",
    "                              random_state = 42,\n",
    "                              # class_weight = 'balanced',\n",
    "                             )\n",
    "\n",
    "liste_composants = [('Vectorisation', vect),\n",
    "                    ('Normalisation', norm),\n",
    "                    ('Coeur', core)]\n",
    "\n",
    "modele = Pipeline(liste_composants)"
   ]
  },
  {
   "cell_type": "code",
   "execution_count": 38,
   "metadata": {},
   "outputs": [
    {
     "name": "stdout",
     "output_type": "stream",
     "text": [
      "évaluation modèle : Decision Tree\n",
      "----------------------\n",
      "start training\n",
      "fin training en 0 minutes\n",
      "----------------------\n",
      " \n",
      "F1 scores =  [0.45844749 0.37347095 0.71165255 0.40589474 0.50164799 0.46412519\n",
      " 0.82246781 0.59583122 0.32770745 0.53825575 0.28496389 0.44384597\n",
      " 0.48198395 0.75320261 0.50909535 0.25091799 0.19582665 0.25849213\n",
      " 0.65454684 0.54767079 0.4969945  0.7461078  0.44780355 0.26596675\n",
      " 0.33480047 0.52747253 0.32686742 0.54044549]\n",
      "Macro-F1 =  0.47380377917416505\n",
      " \n",
      "----------------------\n",
      "gender                 F      M  disparate_impact\n",
      "job                                              \n",
      "accountant          1009   1679          1.664024\n",
      "architect           1436   3771          2.626045\n",
      "attorney            6911  10888          1.575459\n",
      "chiropractor         211    901          4.270142\n",
      "comedian             460   1108          2.408696\n",
      "composer             596   2335          3.917785\n",
      "dentist             1755   3220          1.834758\n",
      "dietitian           1669    199          8.386935\n",
      "dj                   112    577          5.151786\n",
      "filmmaker           1269   2487          1.959811\n",
      "interior_designer    468    290          1.613793\n",
      "journalist          4876   5143          1.054758\n",
      "model               2554    579          4.411054\n",
      "nurse              10322   1253          8.237829\n",
      "painter             1809   2224          1.229409\n",
      "paralegal            444    311          1.427653\n",
      "pastor               281    867          3.085409\n",
      "personal_trainer     182    280          1.538462\n",
      "photographer        5056   7974          1.577136\n",
      "physician           4435   6277          1.415333\n",
      "poet                2035   1936          1.051136\n",
      "professor          29080  36934          1.270083\n",
      "psychologist        5451   3567          1.528175\n",
      "rapper                50    395          7.900000\n",
      "software_engineer    584   2571          4.402397\n",
      "surgeon             1104   4691          4.249094\n",
      "teacher             4442   3561          1.247402\n",
      "yoga_teacher         673    186          3.618280\n",
      " \n",
      "Score disparate impact =  3.023315777065229\n",
      "----------------------\n"
     ]
    }
   ],
   "source": [
    "eval(modele,\"Decision Tree\")"
   ]
  },
  {
   "cell_type": "markdown",
   "metadata": {},
   "source": [
    "# MODELE 4 - Decision Tree weighted classes"
   ]
  },
  {
   "cell_type": "code",
   "execution_count": 39,
   "metadata": {},
   "outputs": [],
   "source": [
    "vect = TfidfVectorizer()  # Vectorisation 'basique'\n",
    "# norm = preprocessing.Normalizer()   # Normalisation\n",
    "core = DecisionTreeClassifier(max_depth = None,  # profondeur max de l'arbre\n",
    "                              min_samples_split = 2,  # taille minimum pour splitter une branche : 2 points\n",
    "                              random_state = 42,\n",
    "                              # class_weight = 'balanced',\n",
    "                             )\n",
    "\n",
    "liste_composants = [('Vectorisation', vect),\n",
    "                    ('Normalisation', norm),\n",
    "                    ('Coeur', core)]\n",
    "\n",
    "modele = Pipeline(liste_composants)"
   ]
  },
  {
   "cell_type": "code",
   "execution_count": 40,
   "metadata": {},
   "outputs": [],
   "source": [
    "# eval(modele,\"Decision Tree weighted classes\")"
   ]
  },
  {
   "cell_type": "markdown",
   "metadata": {},
   "source": [
    "# MODELE 5 - Random Forest"
   ]
  },
  {
   "cell_type": "code",
   "execution_count": 41,
   "metadata": {},
   "outputs": [],
   "source": [
    "vect = TfidfVectorizer()  # Vectorisation 'basique'\n",
    "norm = preprocessing.Normalizer()   # Normalisation\n",
    "core = RandomForestClassifier(n_estimators=1000, # nombre de Decision Trees\n",
    "                              max_depth = None,  # profondeur max de l'arbre\n",
    "                              min_samples_split = 2,  # taille minimum pour splitter une branche\n",
    "                              random_state = 42,\n",
    "                              # class_weight = 'balanced',\n",
    "                             )\n",
    "\n",
    "liste_composants = [('Vectorisation', vect),\n",
    "                    ('Normalisation', norm),\n",
    "                    ('Coeur', core)]\n",
    "\n",
    "modele = Pipeline(liste_composants)"
   ]
  },
  {
   "cell_type": "code",
   "execution_count": 42,
   "metadata": {},
   "outputs": [
    {
     "name": "stdout",
     "output_type": "stream",
     "text": [
      "évaluation modèle : Random Forest\n",
      "----------------------\n",
      "start training\n",
      "fin training en 11 minutes\n",
      "----------------------\n",
      " \n",
      "F1 scores =  [0.35010297 0.24346141 0.82005027 0.25342466 0.62773072 0.45208518\n",
      " 0.86703057 0.37697953 0.14105793 0.59839423 0.04342273 0.52660934\n",
      " 0.58139974 0.77570917 0.57310897 0.0045403  0.07223796 0.01861702\n",
      " 0.75767773 0.61218711 0.50893647 0.68295771 0.42975614 0.11827957\n",
      " 0.18929845 0.60712292 0.24510188 0.31658768]\n",
      "Macro-F1 =  0.42120958491666766\n",
      " \n",
      "----------------------\n",
      "gender                   F        M  disparate_impact\n",
      "job                                                  \n",
      "accountant           274.0    338.0          1.233577\n",
      "architect            206.0    731.0          3.548544\n",
      "attorney            6497.0  10395.0          1.599969\n",
      "chiropractor          22.0    175.0          7.954545\n",
      "comedian             166.0    611.0          3.680723\n",
      "composer             138.0   1294.0          9.376812\n",
      "dentist             1510.0   2762.0          1.829139\n",
      "dietitian            511.0     12.0         42.583333\n",
      "dj                     NaN     61.0          1.000000\n",
      "filmmaker            742.0   1641.0          2.211590\n",
      "interior_designer     17.0      1.0         17.000000\n",
      "journalist          3221.0   2845.0          1.132162\n",
      "model               1554.0     25.0         62.160000\n",
      "nurse               7164.0    744.0          9.629032\n",
      "painter              921.0   1042.0          1.131379\n",
      "paralegal              2.0      NaN          1.000000\n",
      "pastor                 1.0     67.0         67.000000\n",
      "personal_trainer       1.0      6.0          6.000000\n",
      "photographer        5138.0   9885.0          1.923900\n",
      "physician           2955.0   4249.0          1.437902\n",
      "poet                 962.0    841.0          1.143876\n",
      "professor          53320.0  63776.0          1.196099\n",
      "psychologist        1927.0    945.0          2.039153\n",
      "rapper                 1.0     45.0         45.000000\n",
      "software_engineer      8.0    536.0         67.000000\n",
      "surgeon              336.0   2677.0          7.967262\n",
      "teacher             1484.0    488.0          3.040984\n",
      "yoga_teacher         196.0     12.0         16.333333\n",
      " \n",
      "Score disparate impact =  13.826904104650783\n",
      "----------------------\n"
     ]
    }
   ],
   "source": [
    "eval(modele,\"Random Forest\")"
   ]
  },
  {
   "cell_type": "markdown",
   "metadata": {},
   "source": [
    "# MODELE 6 - Random Forest weighted classes"
   ]
  },
  {
   "cell_type": "code",
   "execution_count": 43,
   "metadata": {},
   "outputs": [],
   "source": [
    "vect = TfidfVectorizer()  # Vectorisation 'basique'\n",
    "norm = preprocessing.Normalizer()   # Normalisation\n",
    "core = RandomForestClassifier(n_estimators=1000, # nombre de Decision Trees\n",
    "                              max_depth = None,  # profondeur max de l'arbre\n",
    "                              min_samples_split = 2,  # taille minimum pour splitter une branche\n",
    "                              random_state = 42,\n",
    "                              class_weight = 'balanced',\n",
    "                             )\n",
    "\n",
    "liste_composants = [('Vectorisation', vect),\n",
    "                    ('Normalisation', norm),\n",
    "                    ('Coeur', core)]\n",
    "\n",
    "modele = Pipeline(liste_composants)"
   ]
  },
  {
   "cell_type": "code",
   "execution_count": 44,
   "metadata": {},
   "outputs": [],
   "source": [
    "# eval(modele,\"Random Forest weighted classes\")"
   ]
  }
 ],
 "metadata": {
  "kernelspec": {
   "display_name": "Python 3",
   "language": "python",
   "name": "python3"
  },
  "language_info": {
   "codemirror_mode": {
    "name": "ipython",
    "version": 3
   },
   "file_extension": ".py",
   "mimetype": "text/x-python",
   "name": "python",
   "nbconvert_exporter": "python",
   "pygments_lexer": "ipython3",
   "version": "3.7.9"
  }
 },
 "nbformat": 4,
 "nbformat_minor": 4
}
